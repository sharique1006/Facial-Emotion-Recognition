{
  "nbformat": 4,
  "nbformat_minor": 0,
  "metadata": {
    "colab": {
      "name": "A4-Q1a.ipynb",
      "provenance": [],
      "collapsed_sections": []
    },
    "kernelspec": {
      "name": "python3",
      "display_name": "Python 3"
    },
    "accelerator": "GPU"
  },
  "cells": [
    {
      "cell_type": "code",
      "metadata": {
        "colab": {
          "base_uri": "https://localhost:8080/"
        },
        "id": "2M5imxYZfYA0",
        "outputId": "809b7ead-4886-45d6-a7df-e7e274247c6c"
      },
      "source": [
        "from google.colab import drive\n",
        "drive.mount('/content/drive')"
      ],
      "execution_count": null,
      "outputs": [
        {
          "output_type": "stream",
          "text": [
            "Drive already mounted at /content/drive; to attempt to forcibly remount, call drive.mount(\"/content/drive\", force_remount=True).\n"
          ],
          "name": "stdout"
        }
      ]
    },
    {
      "cell_type": "code",
      "metadata": {
        "id": "qOV0Uwk-fovm"
      },
      "source": [
        "import numpy as np\n",
        "import pandas as pd\n",
        "import sys\n",
        "import time\n",
        "import seaborn as sns\n",
        "import matplotlib.pyplot as plt\n",
        "import torch\n",
        "import torch.nn as nn\n",
        "import torch.optim as optim\n",
        "import torch.nn.functional as F\n",
        "from torch.autograd import Variable\n",
        "from sklearn.metrics import confusion_matrix\n",
        "from sklearn.metrics import f1_score"
      ],
      "execution_count": 1,
      "outputs": []
    },
    {
      "cell_type": "code",
      "metadata": {
        "id": "5XsMfgXLf212"
      },
      "source": [
        "def getData(file):\n",
        "\tdata = pd.read_csv(file, header=None)\n",
        "\tx = data.iloc[:,1:].to_numpy()\n",
        "\ty = data.iloc[:,0].to_numpy()\n",
        "\ty = np.array([int(i) for i in y])\n",
        "\treturn x, y\n",
        " \n",
        "def accuracy(y, pred):\n",
        "\tacc = 0\n",
        "\tfor i in range(len(y)):\n",
        "\t\tif pred[i] == y[i]:\n",
        "\t\t\tacc += 1\n",
        "\tacc = acc/len(y)\n",
        "\treturn acc\n",
        "\n",
        "def ConfusionMatrix(y, pred, file):\n",
        "\tlabels = np.unique(y)\n",
        "\tcm = confusion_matrix(y, pred)\n",
        "\n",
        "\tfig = plt.figure(figsize=(8,8))\n",
        "\tax = fig.gca()\n",
        "\t_ = sns.heatmap(cm,annot=True,cmap=\"Blues\",xticklabels=labels,yticklabels=labels,fmt='g')\n",
        "\tax.set_xlabel(\"Actual Class\")\n",
        "\tax.set_ylabel(\"Predicted Class\")\n",
        "\tplt.title(\"Confusion Matrix\",y=1.08)\n",
        "\tax.xaxis.tick_top()\n",
        "\tax.xaxis.set_label_position('top')\n",
        "\tplt.savefig(file)\n",
        "\tplt.show()\n",
        "\tplt.close()"
      ],
      "execution_count": 2,
      "outputs": []
    },
    {
      "cell_type": "code",
      "metadata": {
        "colab": {
          "base_uri": "https://localhost:8080/"
        },
        "id": "jNcymZWKg2pO",
        "outputId": "8635ad32-fba4-48d0-f025-156e0d197b78"
      },
      "source": [
        "x_train, y_train = getData('/content/drive/MyDrive/Colab Notebooks/train.csv')\n",
        "x_test, y_test = getData('/content/drive/MyDrive/Colab Notebooks/public_test.csv')\n",
        "print(x_train.shape, y_train.shape)\n",
        "print(x_test.shape, y_test.shape)"
      ],
      "execution_count": 3,
      "outputs": [
        {
          "output_type": "stream",
          "text": [
            "(19376, 2304) (19376,)\n",
            "(6459, 2304) (6459,)\n"
          ],
          "name": "stdout"
        }
      ]
    },
    {
      "cell_type": "code",
      "metadata": {
        "colab": {
          "base_uri": "https://localhost:8080/"
        },
        "id": "tJ6TNR1Lg6hZ",
        "outputId": "1a64ba2b-ffec-4d43-d20b-a06df08bdf37"
      },
      "source": [
        "tx_train = torch.FloatTensor(x_train.tolist()).cuda()\n",
        "ty_train = torch.LongTensor(y_train.tolist()).cuda()\n",
        "tx_test = torch.FloatTensor(x_test.tolist()).cuda()\n",
        "ty_test = torch.LongTensor(y_test.tolist()).cuda()\n",
        "\n",
        "print(tx_train.size())\n",
        "print(ty_train.size())\n",
        "print(tx_test.size())\n",
        "print(ty_test.size())"
      ],
      "execution_count": 4,
      "outputs": [
        {
          "output_type": "stream",
          "text": [
            "torch.Size([19376, 2304])\n",
            "torch.Size([19376])\n",
            "torch.Size([6459, 2304])\n",
            "torch.Size([6459])\n"
          ],
          "name": "stdout"
        }
      ]
    },
    {
      "cell_type": "code",
      "metadata": {
        "id": "h93z0fgsdDwB"
      },
      "source": [
        "class NeuralNet(nn.Module):\n",
        "\tdef __init__(self, n, h, r):\n",
        "\t\tsuper(NeuralNet, self).__init__()\n",
        "\t\tself.l1 = nn.Linear(n, h)\n",
        "\t\tself.relu = nn.ReLU()\n",
        "\t\tself.l2 = nn.Linear(h, r)\n",
        "\n",
        "\tdef forward(self, x):\n",
        "\t\tx = self.l1(x)\n",
        "\t\tx = self.relu(x)\n",
        "\t\tx = self.l2(x)\n",
        "\t\treturn F.log_softmax(x, dim=1)\n",
        "\n",
        "\tdef predict(self, x):\n",
        "\t\tnum_batches = int(x.shape[0]/100)\n",
        "\t\tpred = np.array([0.])\n",
        "\t\tfor i in range(num_batches):\n",
        "\t\t\tx_batch = x[i*100:(i+1)*100]\n",
        "\t\t\tpred = np.concatenate((pred, torch.max(self.forward(x_batch).data, 1)[1].cpu().numpy()))\n",
        "\t\tpred = np.concatenate((pred, torch.max(self.forward(x[num_batches*100:x.shape[0]]), 1)[1].cpu().numpy()))\n",
        "\t\treturn pred[1:]\n",
        "\n",
        "\tdef fit(self, x, y, r, optimizer, loss_func):\n",
        "\t\tnum_batches = int(x.shape[0]/r)\n",
        "\t\tconverged = False\n",
        "\t\tepochs = 0\n",
        "\t\tprevloss = 0\n",
        "\t\terror = 0\n",
        "\t\twhile not converged:\n",
        "\t\t\tfor i in range(num_batches):\n",
        "\t\t\t\tx_batch = x[i*r:(i+1)*r]\n",
        "\t\t\t\ty_batch = y[i*r:(i+1)*r]\n",
        "\t\t\t\tx_var = Variable(x_batch)\n",
        "\t\t\t\ty_var = Variable(y_batch)\n",
        "\t\t\t\toptimizer.zero_grad()\n",
        "\t\t\t\tout = self.forward(x_var)\n",
        "\t\t\t\tloss = loss_func(out, y_var)\n",
        "\t\t\t\tloss.backward()\n",
        "\t\t\t\toptimizer.step()\n",
        "\t\t\terror = abs(prevloss - loss.data)\n",
        "\t\t\tprevloss = loss.data\n",
        "\t\t\tprint('Epoch: {} - Loss: {:.6f} - Error: {:.6f}'.format(epochs, loss.data, error))\n",
        "\t\t\tepochs += 1\n",
        "\t\t\tdel loss\n",
        "\t\t\tif epochs > 10 and error < 1e-5 or epochs > 500:\n",
        "\t\t\t\tconverged = True"
      ],
      "execution_count": 5,
      "outputs": []
    },
    {
      "cell_type": "code",
      "metadata": {
        "colab": {
          "base_uri": "https://localhost:8080/"
        },
        "id": "jz6-CTMAiZax",
        "outputId": "1ef5f453-912c-47d5-ff36-215e17b4f51c"
      },
      "source": [
        "model = NeuralNet(x_train.shape[1], 100, 7)\n",
        "model.cuda()\n",
        "optimizer = optim.SGD(model.parameters(), lr=0.01, momentum=0.9)\n",
        "loss_func = nn.CrossEntropyLoss()\n",
        "print(model)"
      ],
      "execution_count": 6,
      "outputs": [
        {
          "output_type": "stream",
          "text": [
            "NeuralNet(\n",
            "  (l1): Linear(in_features=2304, out_features=100, bias=True)\n",
            "  (relu): ReLU()\n",
            "  (l2): Linear(in_features=100, out_features=7, bias=True)\n",
            ")\n"
          ],
          "name": "stdout"
        }
      ]
    },
    {
      "cell_type": "code",
      "metadata": {
        "colab": {
          "base_uri": "https://localhost:8080/"
        },
        "id": "9Um14rn2ieUf",
        "outputId": "3df5986e-df78-451d-c30e-448e4095bbc1"
      },
      "source": [
        "start = time.time()\n",
        "model.fit(tx_train, ty_train, 100, optimizer, loss_func)\n",
        "end = time.time()\n",
        "print(\"Training Time = \", (end-start))"
      ],
      "execution_count": 7,
      "outputs": [
        {
          "output_type": "stream",
          "text": [
            "Epoch: 0 - Loss: 1.628434 - Error: 1.628434\n",
            "Epoch: 1 - Loss: 1.595848 - Error: 0.032586\n",
            "Epoch: 2 - Loss: 1.577543 - Error: 0.018305\n",
            "Epoch: 3 - Loss: 1.592155 - Error: 0.014612\n",
            "Epoch: 4 - Loss: 1.575853 - Error: 0.016302\n",
            "Epoch: 5 - Loss: 1.542735 - Error: 0.033119\n",
            "Epoch: 6 - Loss: 1.483951 - Error: 0.058783\n",
            "Epoch: 7 - Loss: 1.454721 - Error: 0.029230\n",
            "Epoch: 8 - Loss: 1.415840 - Error: 0.038881\n",
            "Epoch: 9 - Loss: 1.362359 - Error: 0.053481\n",
            "Epoch: 10 - Loss: 1.298778 - Error: 0.063581\n",
            "Epoch: 11 - Loss: 1.254314 - Error: 0.044464\n",
            "Epoch: 12 - Loss: 1.199122 - Error: 0.055191\n",
            "Epoch: 13 - Loss: 1.139374 - Error: 0.059749\n",
            "Epoch: 14 - Loss: 1.195099 - Error: 0.055725\n",
            "Epoch: 15 - Loss: 1.142755 - Error: 0.052344\n",
            "Epoch: 16 - Loss: 1.082108 - Error: 0.060647\n",
            "Epoch: 17 - Loss: 1.059545 - Error: 0.022563\n",
            "Epoch: 18 - Loss: 1.053322 - Error: 0.006223\n",
            "Epoch: 19 - Loss: 1.027228 - Error: 0.026094\n",
            "Epoch: 20 - Loss: 0.982566 - Error: 0.044663\n",
            "Epoch: 21 - Loss: 0.957808 - Error: 0.024758\n",
            "Epoch: 22 - Loss: 1.076313 - Error: 0.118505\n",
            "Epoch: 23 - Loss: 1.051480 - Error: 0.024833\n",
            "Epoch: 24 - Loss: 1.159791 - Error: 0.108311\n",
            "Epoch: 25 - Loss: 1.034091 - Error: 0.125700\n",
            "Epoch: 26 - Loss: 1.160232 - Error: 0.126141\n",
            "Epoch: 27 - Loss: 1.271748 - Error: 0.111516\n",
            "Epoch: 28 - Loss: 1.102247 - Error: 0.169500\n",
            "Epoch: 29 - Loss: 1.135810 - Error: 0.033563\n",
            "Epoch: 30 - Loss: 1.241289 - Error: 0.105479\n",
            "Epoch: 31 - Loss: 1.427700 - Error: 0.186410\n",
            "Epoch: 32 - Loss: 1.071358 - Error: 0.356342\n",
            "Epoch: 33 - Loss: 1.069968 - Error: 0.001390\n",
            "Epoch: 34 - Loss: 1.116904 - Error: 0.046936\n",
            "Epoch: 35 - Loss: 0.958218 - Error: 0.158686\n",
            "Epoch: 36 - Loss: 1.078282 - Error: 0.120063\n",
            "Epoch: 37 - Loss: 1.014889 - Error: 0.063393\n",
            "Epoch: 38 - Loss: 1.294796 - Error: 0.279907\n",
            "Epoch: 39 - Loss: 1.142179 - Error: 0.152616\n",
            "Epoch: 40 - Loss: 1.076366 - Error: 0.065814\n",
            "Epoch: 41 - Loss: 1.039421 - Error: 0.036945\n",
            "Epoch: 42 - Loss: 0.911929 - Error: 0.127491\n",
            "Epoch: 43 - Loss: 0.839580 - Error: 0.072349\n",
            "Epoch: 44 - Loss: 0.894772 - Error: 0.055193\n",
            "Epoch: 45 - Loss: 0.786690 - Error: 0.108083\n",
            "Epoch: 46 - Loss: 0.873444 - Error: 0.086755\n",
            "Epoch: 47 - Loss: 0.932653 - Error: 0.059209\n",
            "Epoch: 48 - Loss: 0.984273 - Error: 0.051620\n",
            "Epoch: 49 - Loss: 0.970928 - Error: 0.013345\n",
            "Epoch: 50 - Loss: 0.810173 - Error: 0.160755\n",
            "Epoch: 51 - Loss: 0.763215 - Error: 0.046957\n",
            "Epoch: 52 - Loss: 0.770226 - Error: 0.007010\n",
            "Epoch: 53 - Loss: 0.812431 - Error: 0.042205\n",
            "Epoch: 54 - Loss: 0.694822 - Error: 0.117608\n",
            "Epoch: 55 - Loss: 0.762106 - Error: 0.067284\n",
            "Epoch: 56 - Loss: 0.681310 - Error: 0.080796\n",
            "Epoch: 57 - Loss: 0.770378 - Error: 0.089069\n",
            "Epoch: 58 - Loss: 0.667494 - Error: 0.102885\n",
            "Epoch: 59 - Loss: 0.799311 - Error: 0.131817\n",
            "Epoch: 60 - Loss: 0.457019 - Error: 0.342292\n",
            "Epoch: 61 - Loss: 0.599529 - Error: 0.142510\n",
            "Epoch: 62 - Loss: 0.516421 - Error: 0.083107\n",
            "Epoch: 63 - Loss: 0.633345 - Error: 0.116924\n",
            "Epoch: 64 - Loss: 0.821153 - Error: 0.187808\n",
            "Epoch: 65 - Loss: 0.755307 - Error: 0.065846\n",
            "Epoch: 66 - Loss: 1.008023 - Error: 0.252716\n",
            "Epoch: 67 - Loss: 0.931139 - Error: 0.076885\n",
            "Epoch: 68 - Loss: 0.716238 - Error: 0.214901\n",
            "Epoch: 69 - Loss: 0.702414 - Error: 0.013824\n",
            "Epoch: 70 - Loss: 0.560146 - Error: 0.142268\n",
            "Epoch: 71 - Loss: 0.698757 - Error: 0.138611\n",
            "Epoch: 72 - Loss: 0.901714 - Error: 0.202957\n",
            "Epoch: 73 - Loss: 0.919676 - Error: 0.017962\n",
            "Epoch: 74 - Loss: 0.739230 - Error: 0.180446\n",
            "Epoch: 75 - Loss: 0.671285 - Error: 0.067946\n",
            "Epoch: 76 - Loss: 0.997695 - Error: 0.326410\n",
            "Epoch: 77 - Loss: 0.886739 - Error: 0.110956\n",
            "Epoch: 78 - Loss: 0.832288 - Error: 0.054451\n",
            "Epoch: 79 - Loss: 0.514921 - Error: 0.317367\n",
            "Epoch: 80 - Loss: 0.617459 - Error: 0.102538\n",
            "Epoch: 81 - Loss: 0.367378 - Error: 0.250082\n",
            "Epoch: 82 - Loss: 0.552203 - Error: 0.184825\n",
            "Epoch: 83 - Loss: 0.784710 - Error: 0.232507\n",
            "Epoch: 84 - Loss: 0.601351 - Error: 0.183360\n",
            "Epoch: 85 - Loss: 0.526659 - Error: 0.074691\n",
            "Epoch: 86 - Loss: 0.724133 - Error: 0.197474\n",
            "Epoch: 87 - Loss: 0.837175 - Error: 0.113042\n",
            "Epoch: 88 - Loss: 0.716655 - Error: 0.120520\n",
            "Epoch: 89 - Loss: 0.526213 - Error: 0.190442\n",
            "Epoch: 90 - Loss: 0.762656 - Error: 0.236443\n",
            "Epoch: 91 - Loss: 0.522559 - Error: 0.240098\n",
            "Epoch: 92 - Loss: 0.754187 - Error: 0.231628\n",
            "Epoch: 93 - Loss: 0.646069 - Error: 0.108118\n",
            "Epoch: 94 - Loss: 0.651998 - Error: 0.005930\n",
            "Epoch: 95 - Loss: 0.656065 - Error: 0.004067\n",
            "Epoch: 96 - Loss: 0.504300 - Error: 0.151765\n",
            "Epoch: 97 - Loss: 0.367415 - Error: 0.136885\n",
            "Epoch: 98 - Loss: 0.553780 - Error: 0.186365\n",
            "Epoch: 99 - Loss: 0.687639 - Error: 0.133859\n",
            "Epoch: 100 - Loss: 0.522500 - Error: 0.165139\n",
            "Epoch: 101 - Loss: 0.647835 - Error: 0.125335\n",
            "Epoch: 102 - Loss: 0.323686 - Error: 0.324148\n",
            "Epoch: 103 - Loss: 0.299374 - Error: 0.024312\n",
            "Epoch: 104 - Loss: 0.509425 - Error: 0.210051\n",
            "Epoch: 105 - Loss: 0.348653 - Error: 0.160773\n",
            "Epoch: 106 - Loss: 0.435775 - Error: 0.087122\n",
            "Epoch: 107 - Loss: 0.393952 - Error: 0.041823\n",
            "Epoch: 108 - Loss: 0.364208 - Error: 0.029744\n",
            "Epoch: 109 - Loss: 0.394141 - Error: 0.029933\n",
            "Epoch: 110 - Loss: 0.304394 - Error: 0.089747\n",
            "Epoch: 111 - Loss: 0.285536 - Error: 0.018857\n",
            "Epoch: 112 - Loss: 0.265184 - Error: 0.020352\n",
            "Epoch: 113 - Loss: 0.749668 - Error: 0.484485\n",
            "Epoch: 114 - Loss: 0.354470 - Error: 0.395198\n",
            "Epoch: 115 - Loss: 0.311780 - Error: 0.042691\n",
            "Epoch: 116 - Loss: 0.383970 - Error: 0.072190\n",
            "Epoch: 117 - Loss: 0.282500 - Error: 0.101469\n",
            "Epoch: 118 - Loss: 0.423787 - Error: 0.141286\n",
            "Epoch: 119 - Loss: 0.371991 - Error: 0.051795\n",
            "Epoch: 120 - Loss: 0.387646 - Error: 0.015655\n",
            "Epoch: 121 - Loss: 0.270517 - Error: 0.117129\n",
            "Epoch: 122 - Loss: 0.414404 - Error: 0.143887\n",
            "Epoch: 123 - Loss: 0.327265 - Error: 0.087139\n",
            "Epoch: 124 - Loss: 0.169326 - Error: 0.157939\n",
            "Epoch: 125 - Loss: 0.228387 - Error: 0.059061\n",
            "Epoch: 126 - Loss: 0.273185 - Error: 0.044799\n",
            "Epoch: 127 - Loss: 0.281870 - Error: 0.008685\n",
            "Epoch: 128 - Loss: 0.409753 - Error: 0.127883\n",
            "Epoch: 129 - Loss: 0.261373 - Error: 0.148380\n",
            "Epoch: 130 - Loss: 0.208225 - Error: 0.053149\n",
            "Epoch: 131 - Loss: 0.191192 - Error: 0.017033\n",
            "Epoch: 132 - Loss: 0.435656 - Error: 0.244464\n",
            "Epoch: 133 - Loss: 0.335969 - Error: 0.099687\n",
            "Epoch: 134 - Loss: 0.488244 - Error: 0.152275\n",
            "Epoch: 135 - Loss: 0.243100 - Error: 0.245144\n",
            "Epoch: 136 - Loss: 0.307187 - Error: 0.064087\n",
            "Epoch: 137 - Loss: 0.428955 - Error: 0.121768\n",
            "Epoch: 138 - Loss: 0.348088 - Error: 0.080867\n",
            "Epoch: 139 - Loss: 0.377766 - Error: 0.029679\n",
            "Epoch: 140 - Loss: 0.562273 - Error: 0.184506\n",
            "Epoch: 141 - Loss: 0.350998 - Error: 0.211275\n",
            "Epoch: 142 - Loss: 0.596085 - Error: 0.245088\n",
            "Epoch: 143 - Loss: 0.645138 - Error: 0.049053\n",
            "Epoch: 144 - Loss: 0.468066 - Error: 0.177072\n",
            "Epoch: 145 - Loss: 0.485810 - Error: 0.017744\n",
            "Epoch: 146 - Loss: 0.653159 - Error: 0.167349\n",
            "Epoch: 147 - Loss: 0.350988 - Error: 0.302172\n",
            "Epoch: 148 - Loss: 0.325403 - Error: 0.025584\n",
            "Epoch: 149 - Loss: 0.306740 - Error: 0.018664\n",
            "Epoch: 150 - Loss: 0.347741 - Error: 0.041001\n",
            "Epoch: 151 - Loss: 0.405599 - Error: 0.057858\n",
            "Epoch: 152 - Loss: 0.234233 - Error: 0.171366\n",
            "Epoch: 153 - Loss: 0.220676 - Error: 0.013557\n",
            "Epoch: 154 - Loss: 0.420910 - Error: 0.200234\n",
            "Epoch: 155 - Loss: 0.365977 - Error: 0.054933\n",
            "Epoch: 156 - Loss: 0.350933 - Error: 0.015045\n",
            "Epoch: 157 - Loss: 0.285477 - Error: 0.065455\n",
            "Epoch: 158 - Loss: 0.317987 - Error: 0.032510\n",
            "Epoch: 159 - Loss: 0.336602 - Error: 0.018615\n",
            "Epoch: 160 - Loss: 0.437198 - Error: 0.100595\n",
            "Epoch: 161 - Loss: 0.302439 - Error: 0.134759\n",
            "Epoch: 162 - Loss: 0.357001 - Error: 0.054562\n",
            "Epoch: 163 - Loss: 0.441385 - Error: 0.084383\n",
            "Epoch: 164 - Loss: 0.361232 - Error: 0.080153\n",
            "Epoch: 165 - Loss: 0.519036 - Error: 0.157804\n",
            "Epoch: 166 - Loss: 0.388412 - Error: 0.130624\n",
            "Epoch: 167 - Loss: 0.280278 - Error: 0.108134\n",
            "Epoch: 168 - Loss: 0.322501 - Error: 0.042223\n",
            "Epoch: 169 - Loss: 0.479713 - Error: 0.157212\n",
            "Epoch: 170 - Loss: 0.264743 - Error: 0.214970\n",
            "Epoch: 171 - Loss: 0.265528 - Error: 0.000784\n",
            "Epoch: 172 - Loss: 0.289613 - Error: 0.024085\n",
            "Epoch: 173 - Loss: 0.389031 - Error: 0.099418\n",
            "Epoch: 174 - Loss: 0.295334 - Error: 0.093697\n",
            "Epoch: 175 - Loss: 0.236530 - Error: 0.058804\n",
            "Epoch: 176 - Loss: 0.238954 - Error: 0.002424\n",
            "Epoch: 177 - Loss: 0.204159 - Error: 0.034795\n",
            "Epoch: 178 - Loss: 0.262261 - Error: 0.058101\n",
            "Epoch: 179 - Loss: 0.299606 - Error: 0.037345\n",
            "Epoch: 180 - Loss: 0.173142 - Error: 0.126464\n",
            "Epoch: 181 - Loss: 0.337731 - Error: 0.164589\n",
            "Epoch: 182 - Loss: 0.260892 - Error: 0.076839\n",
            "Epoch: 183 - Loss: 0.282833 - Error: 0.021941\n",
            "Epoch: 184 - Loss: 0.342594 - Error: 0.059761\n",
            "Epoch: 185 - Loss: 0.115789 - Error: 0.226805\n",
            "Epoch: 186 - Loss: 0.310734 - Error: 0.194944\n",
            "Epoch: 187 - Loss: 0.275862 - Error: 0.034871\n",
            "Epoch: 188 - Loss: 0.228478 - Error: 0.047385\n",
            "Epoch: 189 - Loss: 0.220542 - Error: 0.007936\n",
            "Epoch: 190 - Loss: 0.312846 - Error: 0.092305\n",
            "Epoch: 191 - Loss: 0.262926 - Error: 0.049921\n",
            "Epoch: 192 - Loss: 0.214415 - Error: 0.048511\n",
            "Epoch: 193 - Loss: 0.400730 - Error: 0.186315\n",
            "Epoch: 194 - Loss: 0.345510 - Error: 0.055220\n",
            "Epoch: 195 - Loss: 0.244010 - Error: 0.101501\n",
            "Epoch: 196 - Loss: 0.170916 - Error: 0.073093\n",
            "Epoch: 197 - Loss: 0.240876 - Error: 0.069960\n",
            "Epoch: 198 - Loss: 0.300230 - Error: 0.059353\n",
            "Epoch: 199 - Loss: 0.264527 - Error: 0.035703\n",
            "Epoch: 200 - Loss: 0.145786 - Error: 0.118740\n",
            "Epoch: 201 - Loss: 0.180885 - Error: 0.035099\n",
            "Epoch: 202 - Loss: 0.248284 - Error: 0.067400\n",
            "Epoch: 203 - Loss: 0.168485 - Error: 0.079799\n",
            "Epoch: 204 - Loss: 0.198728 - Error: 0.030243\n",
            "Epoch: 205 - Loss: 0.151711 - Error: 0.047017\n",
            "Epoch: 206 - Loss: 0.175447 - Error: 0.023736\n",
            "Epoch: 207 - Loss: 0.149391 - Error: 0.026056\n",
            "Epoch: 208 - Loss: 0.145667 - Error: 0.003724\n",
            "Epoch: 209 - Loss: 0.239926 - Error: 0.094259\n",
            "Epoch: 210 - Loss: 0.157048 - Error: 0.082878\n",
            "Epoch: 211 - Loss: 0.135914 - Error: 0.021134\n",
            "Epoch: 212 - Loss: 0.113093 - Error: 0.022821\n",
            "Epoch: 213 - Loss: 0.075451 - Error: 0.037642\n",
            "Epoch: 214 - Loss: 0.138534 - Error: 0.063083\n",
            "Epoch: 215 - Loss: 0.239785 - Error: 0.101250\n",
            "Epoch: 216 - Loss: 0.169466 - Error: 0.070318\n",
            "Epoch: 217 - Loss: 0.133866 - Error: 0.035600\n",
            "Epoch: 218 - Loss: 0.130459 - Error: 0.003407\n",
            "Epoch: 219 - Loss: 0.110833 - Error: 0.019626\n",
            "Epoch: 220 - Loss: 0.085839 - Error: 0.024994\n",
            "Epoch: 221 - Loss: 0.196041 - Error: 0.110202\n",
            "Epoch: 222 - Loss: 0.177509 - Error: 0.018532\n",
            "Epoch: 223 - Loss: 0.089139 - Error: 0.088370\n",
            "Epoch: 224 - Loss: 0.163193 - Error: 0.074054\n",
            "Epoch: 225 - Loss: 0.227124 - Error: 0.063931\n",
            "Epoch: 226 - Loss: 0.103158 - Error: 0.123967\n",
            "Epoch: 227 - Loss: 0.174349 - Error: 0.071191\n",
            "Epoch: 228 - Loss: 0.164273 - Error: 0.010076\n",
            "Epoch: 229 - Loss: 0.091919 - Error: 0.072354\n",
            "Epoch: 230 - Loss: 0.217613 - Error: 0.125693\n",
            "Epoch: 231 - Loss: 0.082863 - Error: 0.134750\n",
            "Epoch: 232 - Loss: 0.166783 - Error: 0.083920\n",
            "Epoch: 233 - Loss: 0.100678 - Error: 0.066105\n",
            "Epoch: 234 - Loss: 0.206240 - Error: 0.105563\n",
            "Epoch: 235 - Loss: 0.127870 - Error: 0.078370\n",
            "Epoch: 236 - Loss: 0.098087 - Error: 0.029783\n",
            "Epoch: 237 - Loss: 0.112405 - Error: 0.014317\n",
            "Epoch: 238 - Loss: 0.172176 - Error: 0.059771\n",
            "Epoch: 239 - Loss: 0.210327 - Error: 0.038151\n",
            "Epoch: 240 - Loss: 0.128218 - Error: 0.082109\n",
            "Epoch: 241 - Loss: 0.175434 - Error: 0.047216\n",
            "Epoch: 242 - Loss: 0.086011 - Error: 0.089423\n",
            "Epoch: 243 - Loss: 0.079000 - Error: 0.007010\n",
            "Epoch: 244 - Loss: 0.206453 - Error: 0.127452\n",
            "Epoch: 245 - Loss: 0.092161 - Error: 0.114291\n",
            "Epoch: 246 - Loss: 0.136752 - Error: 0.044591\n",
            "Epoch: 247 - Loss: 0.100890 - Error: 0.035863\n",
            "Epoch: 248 - Loss: 0.117686 - Error: 0.016796\n",
            "Epoch: 249 - Loss: 0.095785 - Error: 0.021902\n",
            "Epoch: 250 - Loss: 0.120998 - Error: 0.025213\n",
            "Epoch: 251 - Loss: 0.062244 - Error: 0.058754\n",
            "Epoch: 252 - Loss: 0.185508 - Error: 0.123264\n",
            "Epoch: 253 - Loss: 0.144902 - Error: 0.040606\n",
            "Epoch: 254 - Loss: 0.152026 - Error: 0.007124\n",
            "Epoch: 255 - Loss: 0.141782 - Error: 0.010244\n",
            "Epoch: 256 - Loss: 0.153936 - Error: 0.012154\n",
            "Epoch: 257 - Loss: 0.137045 - Error: 0.016890\n",
            "Epoch: 258 - Loss: 0.112407 - Error: 0.024638\n",
            "Epoch: 259 - Loss: 0.104578 - Error: 0.007829\n",
            "Epoch: 260 - Loss: 0.064679 - Error: 0.039899\n",
            "Epoch: 261 - Loss: 0.111421 - Error: 0.046742\n",
            "Epoch: 262 - Loss: 0.135411 - Error: 0.023990\n",
            "Epoch: 263 - Loss: 0.107352 - Error: 0.028059\n",
            "Epoch: 264 - Loss: 0.175152 - Error: 0.067800\n",
            "Epoch: 265 - Loss: 0.141022 - Error: 0.034130\n",
            "Epoch: 266 - Loss: 0.185319 - Error: 0.044297\n",
            "Epoch: 267 - Loss: 0.093639 - Error: 0.091680\n",
            "Epoch: 268 - Loss: 0.124759 - Error: 0.031120\n",
            "Epoch: 269 - Loss: 0.157015 - Error: 0.032256\n",
            "Epoch: 270 - Loss: 0.123065 - Error: 0.033949\n",
            "Epoch: 271 - Loss: 0.107499 - Error: 0.015567\n",
            "Epoch: 272 - Loss: 0.079410 - Error: 0.028089\n",
            "Epoch: 273 - Loss: 0.105228 - Error: 0.025818\n",
            "Epoch: 274 - Loss: 0.101993 - Error: 0.003235\n",
            "Epoch: 275 - Loss: 0.202788 - Error: 0.100795\n",
            "Epoch: 276 - Loss: 0.111224 - Error: 0.091564\n",
            "Epoch: 277 - Loss: 0.172185 - Error: 0.060961\n",
            "Epoch: 278 - Loss: 0.113032 - Error: 0.059153\n",
            "Epoch: 279 - Loss: 0.172192 - Error: 0.059160\n",
            "Epoch: 280 - Loss: 0.111275 - Error: 0.060917\n",
            "Epoch: 281 - Loss: 0.105839 - Error: 0.005437\n",
            "Epoch: 282 - Loss: 0.090560 - Error: 0.015279\n",
            "Epoch: 283 - Loss: 0.105544 - Error: 0.014984\n",
            "Epoch: 284 - Loss: 0.085729 - Error: 0.019815\n",
            "Epoch: 285 - Loss: 0.113304 - Error: 0.027574\n",
            "Epoch: 286 - Loss: 0.112502 - Error: 0.000802\n",
            "Epoch: 287 - Loss: 0.101327 - Error: 0.011175\n",
            "Epoch: 288 - Loss: 0.085718 - Error: 0.015609\n",
            "Epoch: 289 - Loss: 0.098254 - Error: 0.012536\n",
            "Epoch: 290 - Loss: 0.107588 - Error: 0.009334\n",
            "Epoch: 291 - Loss: 0.055109 - Error: 0.052479\n",
            "Epoch: 292 - Loss: 0.101900 - Error: 0.046791\n",
            "Epoch: 293 - Loss: 0.064155 - Error: 0.037745\n",
            "Epoch: 294 - Loss: 0.107013 - Error: 0.042858\n",
            "Epoch: 295 - Loss: 0.107385 - Error: 0.000372\n",
            "Epoch: 296 - Loss: 0.078111 - Error: 0.029273\n",
            "Epoch: 297 - Loss: 0.068916 - Error: 0.009195\n",
            "Epoch: 298 - Loss: 0.090162 - Error: 0.021246\n",
            "Epoch: 299 - Loss: 0.086668 - Error: 0.003494\n",
            "Epoch: 300 - Loss: 0.121041 - Error: 0.034373\n",
            "Epoch: 301 - Loss: 0.105548 - Error: 0.015493\n",
            "Epoch: 302 - Loss: 0.058644 - Error: 0.046904\n",
            "Epoch: 303 - Loss: 0.068884 - Error: 0.010240\n",
            "Epoch: 304 - Loss: 0.097278 - Error: 0.028394\n",
            "Epoch: 305 - Loss: 0.087259 - Error: 0.010019\n",
            "Epoch: 306 - Loss: 0.078539 - Error: 0.008720\n",
            "Epoch: 307 - Loss: 0.089765 - Error: 0.011225\n",
            "Epoch: 308 - Loss: 0.111761 - Error: 0.021996\n",
            "Epoch: 309 - Loss: 0.100743 - Error: 0.011018\n",
            "Epoch: 310 - Loss: 0.089508 - Error: 0.011235\n",
            "Epoch: 311 - Loss: 0.100292 - Error: 0.010784\n",
            "Epoch: 312 - Loss: 0.082254 - Error: 0.018038\n",
            "Epoch: 313 - Loss: 0.087238 - Error: 0.004984\n",
            "Epoch: 314 - Loss: 0.111187 - Error: 0.023949\n",
            "Epoch: 315 - Loss: 0.071637 - Error: 0.039550\n",
            "Epoch: 316 - Loss: 0.072592 - Error: 0.000955\n",
            "Epoch: 317 - Loss: 0.078313 - Error: 0.005721\n",
            "Epoch: 318 - Loss: 0.071860 - Error: 0.006452\n",
            "Epoch: 319 - Loss: 0.068875 - Error: 0.002985\n",
            "Epoch: 320 - Loss: 0.087510 - Error: 0.018635\n",
            "Epoch: 321 - Loss: 0.102788 - Error: 0.015278\n",
            "Epoch: 322 - Loss: 0.071568 - Error: 0.031220\n",
            "Epoch: 323 - Loss: 0.092430 - Error: 0.020862\n",
            "Epoch: 324 - Loss: 0.069557 - Error: 0.022873\n",
            "Epoch: 325 - Loss: 0.077707 - Error: 0.008151\n",
            "Epoch: 326 - Loss: 0.061097 - Error: 0.016610\n",
            "Epoch: 327 - Loss: 0.072870 - Error: 0.011773\n",
            "Epoch: 328 - Loss: 0.049993 - Error: 0.022877\n",
            "Epoch: 329 - Loss: 0.087057 - Error: 0.037063\n",
            "Epoch: 330 - Loss: 0.059058 - Error: 0.027999\n",
            "Epoch: 331 - Loss: 0.072026 - Error: 0.012968\n",
            "Epoch: 332 - Loss: 0.047146 - Error: 0.024880\n",
            "Epoch: 333 - Loss: 0.083261 - Error: 0.036115\n",
            "Epoch: 334 - Loss: 0.070528 - Error: 0.012733\n",
            "Epoch: 335 - Loss: 0.088706 - Error: 0.018178\n",
            "Epoch: 336 - Loss: 0.069631 - Error: 0.019075\n",
            "Epoch: 337 - Loss: 0.094680 - Error: 0.025049\n",
            "Epoch: 338 - Loss: 0.083230 - Error: 0.011450\n",
            "Epoch: 339 - Loss: 0.082413 - Error: 0.000817\n",
            "Epoch: 340 - Loss: 0.071975 - Error: 0.010438\n",
            "Epoch: 341 - Loss: 0.067522 - Error: 0.004453\n",
            "Epoch: 342 - Loss: 0.058847 - Error: 0.008675\n",
            "Epoch: 343 - Loss: 0.068391 - Error: 0.009544\n",
            "Epoch: 344 - Loss: 0.056579 - Error: 0.011812\n",
            "Epoch: 345 - Loss: 0.057792 - Error: 0.001213\n",
            "Epoch: 346 - Loss: 0.063069 - Error: 0.005277\n",
            "Epoch: 347 - Loss: 0.092033 - Error: 0.028964\n",
            "Epoch: 348 - Loss: 0.056068 - Error: 0.035966\n",
            "Epoch: 349 - Loss: 0.076275 - Error: 0.020208\n",
            "Epoch: 350 - Loss: 0.071646 - Error: 0.004630\n",
            "Epoch: 351 - Loss: 0.084195 - Error: 0.012549\n",
            "Epoch: 352 - Loss: 0.054519 - Error: 0.029676\n",
            "Epoch: 353 - Loss: 0.060593 - Error: 0.006074\n",
            "Epoch: 354 - Loss: 0.059952 - Error: 0.000641\n",
            "Epoch: 355 - Loss: 0.074116 - Error: 0.014164\n",
            "Epoch: 356 - Loss: 0.068195 - Error: 0.005921\n",
            "Epoch: 357 - Loss: 0.065178 - Error: 0.003017\n",
            "Epoch: 358 - Loss: 0.052561 - Error: 0.012617\n",
            "Epoch: 359 - Loss: 0.067968 - Error: 0.015407\n",
            "Epoch: 360 - Loss: 0.059200 - Error: 0.008768\n",
            "Epoch: 361 - Loss: 0.064994 - Error: 0.005794\n",
            "Epoch: 362 - Loss: 0.058017 - Error: 0.006976\n",
            "Epoch: 363 - Loss: 0.068439 - Error: 0.010421\n",
            "Epoch: 364 - Loss: 0.056417 - Error: 0.012021\n",
            "Epoch: 365 - Loss: 0.064787 - Error: 0.008369\n",
            "Epoch: 366 - Loss: 0.062925 - Error: 0.001862\n",
            "Epoch: 367 - Loss: 0.062821 - Error: 0.000104\n",
            "Epoch: 368 - Loss: 0.062951 - Error: 0.000130\n",
            "Epoch: 369 - Loss: 0.056921 - Error: 0.006029\n",
            "Epoch: 370 - Loss: 0.048352 - Error: 0.008569\n",
            "Epoch: 371 - Loss: 0.072804 - Error: 0.024452\n",
            "Epoch: 372 - Loss: 0.048983 - Error: 0.023821\n",
            "Epoch: 373 - Loss: 0.061270 - Error: 0.012287\n",
            "Epoch: 374 - Loss: 0.063603 - Error: 0.002333\n",
            "Epoch: 375 - Loss: 0.058921 - Error: 0.004682\n",
            "Epoch: 376 - Loss: 0.060471 - Error: 0.001550\n",
            "Epoch: 377 - Loss: 0.062088 - Error: 0.001617\n",
            "Epoch: 378 - Loss: 0.060479 - Error: 0.001608\n",
            "Epoch: 379 - Loss: 0.067143 - Error: 0.006664\n",
            "Epoch: 380 - Loss: 0.044980 - Error: 0.022163\n",
            "Epoch: 381 - Loss: 0.062119 - Error: 0.017139\n",
            "Epoch: 382 - Loss: 0.051683 - Error: 0.010436\n",
            "Epoch: 383 - Loss: 0.065844 - Error: 0.014161\n",
            "Epoch: 384 - Loss: 0.064780 - Error: 0.001064\n",
            "Epoch: 385 - Loss: 0.065018 - Error: 0.000239\n",
            "Epoch: 386 - Loss: 0.068141 - Error: 0.003122\n",
            "Epoch: 387 - Loss: 0.062697 - Error: 0.005444\n",
            "Epoch: 388 - Loss: 0.065370 - Error: 0.002673\n",
            "Epoch: 389 - Loss: 0.062493 - Error: 0.002876\n",
            "Epoch: 390 - Loss: 0.068692 - Error: 0.006199\n",
            "Epoch: 391 - Loss: 0.063369 - Error: 0.005324\n",
            "Epoch: 392 - Loss: 0.063131 - Error: 0.000237\n",
            "Epoch: 393 - Loss: 0.067050 - Error: 0.003919\n",
            "Epoch: 394 - Loss: 0.066419 - Error: 0.000631\n",
            "Epoch: 395 - Loss: 0.067360 - Error: 0.000940\n",
            "Epoch: 396 - Loss: 0.059212 - Error: 0.008148\n",
            "Epoch: 397 - Loss: 0.060989 - Error: 0.001777\n",
            "Epoch: 398 - Loss: 0.067124 - Error: 0.006135\n",
            "Epoch: 399 - Loss: 0.058268 - Error: 0.008856\n",
            "Epoch: 400 - Loss: 0.062155 - Error: 0.003887\n",
            "Epoch: 401 - Loss: 0.058038 - Error: 0.004117\n",
            "Epoch: 402 - Loss: 0.064266 - Error: 0.006228\n",
            "Epoch: 403 - Loss: 0.050752 - Error: 0.013514\n",
            "Epoch: 404 - Loss: 0.065867 - Error: 0.015116\n",
            "Epoch: 405 - Loss: 0.050348 - Error: 0.015519\n",
            "Epoch: 406 - Loss: 0.064649 - Error: 0.014300\n",
            "Epoch: 407 - Loss: 0.050365 - Error: 0.014284\n",
            "Epoch: 408 - Loss: 0.067501 - Error: 0.017136\n",
            "Epoch: 409 - Loss: 0.046500 - Error: 0.021001\n",
            "Epoch: 410 - Loss: 0.061158 - Error: 0.014658\n",
            "Epoch: 411 - Loss: 0.057354 - Error: 0.003804\n",
            "Epoch: 412 - Loss: 0.065184 - Error: 0.007830\n",
            "Epoch: 413 - Loss: 0.054663 - Error: 0.010521\n",
            "Epoch: 414 - Loss: 0.065226 - Error: 0.010563\n",
            "Epoch: 415 - Loss: 0.055167 - Error: 0.010059\n",
            "Epoch: 416 - Loss: 0.050943 - Error: 0.004224\n",
            "Epoch: 417 - Loss: 0.050167 - Error: 0.000776\n",
            "Epoch: 418 - Loss: 0.061192 - Error: 0.011025\n",
            "Epoch: 419 - Loss: 0.058894 - Error: 0.002297\n",
            "Epoch: 420 - Loss: 0.058432 - Error: 0.000462\n",
            "Epoch: 421 - Loss: 0.059398 - Error: 0.000966\n",
            "Epoch: 422 - Loss: 0.059635 - Error: 0.000236\n",
            "Epoch: 423 - Loss: 0.059412 - Error: 0.000222\n",
            "Epoch: 424 - Loss: 0.058049 - Error: 0.001363\n",
            "Epoch: 425 - Loss: 0.056936 - Error: 0.001113\n",
            "Epoch: 426 - Loss: 0.057093 - Error: 0.000156\n",
            "Epoch: 427 - Loss: 0.059806 - Error: 0.002713\n",
            "Epoch: 428 - Loss: 0.059427 - Error: 0.000379\n",
            "Epoch: 429 - Loss: 0.049495 - Error: 0.009932\n",
            "Epoch: 430 - Loss: 0.061516 - Error: 0.012022\n",
            "Epoch: 431 - Loss: 0.051174 - Error: 0.010342\n",
            "Epoch: 432 - Loss: 0.061092 - Error: 0.009918\n",
            "Epoch: 433 - Loss: 0.052314 - Error: 0.008778\n",
            "Epoch: 434 - Loss: 0.057136 - Error: 0.004823\n",
            "Epoch: 435 - Loss: 0.060349 - Error: 0.003212\n",
            "Epoch: 436 - Loss: 0.053941 - Error: 0.006408\n",
            "Epoch: 437 - Loss: 0.058271 - Error: 0.004330\n",
            "Epoch: 438 - Loss: 0.053063 - Error: 0.005208\n",
            "Epoch: 439 - Loss: 0.050552 - Error: 0.002512\n",
            "Epoch: 440 - Loss: 0.058542 - Error: 0.007990\n",
            "Epoch: 441 - Loss: 0.057056 - Error: 0.001486\n",
            "Epoch: 442 - Loss: 0.057101 - Error: 0.000045\n",
            "Epoch: 443 - Loss: 0.055695 - Error: 0.001406\n",
            "Epoch: 444 - Loss: 0.058289 - Error: 0.002594\n",
            "Epoch: 445 - Loss: 0.056336 - Error: 0.001953\n",
            "Epoch: 446 - Loss: 0.055716 - Error: 0.000620\n",
            "Epoch: 447 - Loss: 0.054331 - Error: 0.001385\n",
            "Epoch: 448 - Loss: 0.057577 - Error: 0.003246\n",
            "Epoch: 449 - Loss: 0.051783 - Error: 0.005794\n",
            "Epoch: 450 - Loss: 0.053200 - Error: 0.001416\n",
            "Epoch: 451 - Loss: 0.055028 - Error: 0.001829\n",
            "Epoch: 452 - Loss: 0.057076 - Error: 0.002048\n",
            "Epoch: 453 - Loss: 0.048074 - Error: 0.009002\n",
            "Epoch: 454 - Loss: 0.051912 - Error: 0.003839\n",
            "Epoch: 455 - Loss: 0.055844 - Error: 0.003931\n",
            "Epoch: 456 - Loss: 0.063034 - Error: 0.007190\n",
            "Epoch: 457 - Loss: 0.051467 - Error: 0.011567\n",
            "Epoch: 458 - Loss: 0.056423 - Error: 0.004956\n",
            "Epoch: 459 - Loss: 0.054427 - Error: 0.001997\n",
            "Epoch: 460 - Loss: 0.059300 - Error: 0.004874\n",
            "Epoch: 461 - Loss: 0.059125 - Error: 0.000175\n",
            "Epoch: 462 - Loss: 0.051654 - Error: 0.007471\n",
            "Epoch: 463 - Loss: 0.046327 - Error: 0.005327\n",
            "Epoch: 464 - Loss: 0.060874 - Error: 0.014547\n",
            "Epoch: 465 - Loss: 0.050368 - Error: 0.010506\n",
            "Epoch: 466 - Loss: 0.063759 - Error: 0.013392\n",
            "Epoch: 467 - Loss: 0.044140 - Error: 0.019619\n",
            "Epoch: 468 - Loss: 0.053953 - Error: 0.009812\n",
            "Epoch: 469 - Loss: 0.056548 - Error: 0.002595\n",
            "Epoch: 470 - Loss: 0.056808 - Error: 0.000260\n",
            "Epoch: 471 - Loss: 0.058755 - Error: 0.001947\n",
            "Epoch: 472 - Loss: 0.053666 - Error: 0.005089\n",
            "Epoch: 473 - Loss: 0.056073 - Error: 0.002406\n",
            "Epoch: 474 - Loss: 0.057364 - Error: 0.001291\n",
            "Epoch: 475 - Loss: 0.062267 - Error: 0.004903\n",
            "Epoch: 476 - Loss: 0.058533 - Error: 0.003735\n",
            "Epoch: 477 - Loss: 0.049561 - Error: 0.008972\n",
            "Epoch: 478 - Loss: 0.056725 - Error: 0.007165\n",
            "Epoch: 479 - Loss: 0.053991 - Error: 0.002734\n",
            "Epoch: 480 - Loss: 0.057989 - Error: 0.003998\n",
            "Epoch: 481 - Loss: 0.049629 - Error: 0.008360\n",
            "Epoch: 482 - Loss: 0.052141 - Error: 0.002512\n",
            "Epoch: 483 - Loss: 0.050389 - Error: 0.001752\n",
            "Epoch: 484 - Loss: 0.056586 - Error: 0.006196\n",
            "Epoch: 485 - Loss: 0.051813 - Error: 0.004773\n",
            "Epoch: 486 - Loss: 0.063214 - Error: 0.011401\n",
            "Epoch: 487 - Loss: 0.052506 - Error: 0.010708\n",
            "Epoch: 488 - Loss: 0.053448 - Error: 0.000942\n",
            "Epoch: 489 - Loss: 0.058671 - Error: 0.005223\n",
            "Epoch: 490 - Loss: 0.054929 - Error: 0.003742\n",
            "Epoch: 491 - Loss: 0.046986 - Error: 0.007944\n",
            "Epoch: 492 - Loss: 0.061716 - Error: 0.014730\n",
            "Epoch: 493 - Loss: 0.059470 - Error: 0.002246\n",
            "Epoch: 494 - Loss: 0.056778 - Error: 0.002691\n",
            "Epoch: 495 - Loss: 0.046277 - Error: 0.010501\n",
            "Epoch: 496 - Loss: 0.053796 - Error: 0.007519\n",
            "Epoch: 497 - Loss: 0.049920 - Error: 0.003875\n",
            "Epoch: 498 - Loss: 0.052022 - Error: 0.002102\n",
            "Epoch: 499 - Loss: 0.055124 - Error: 0.003102\n",
            "Epoch: 500 - Loss: 0.053987 - Error: 0.001137\n",
            "Training Time =  95.7248523235321\n"
          ],
          "name": "stdout"
        }
      ]
    },
    {
      "cell_type": "code",
      "metadata": {
        "colab": {
          "base_uri": "https://localhost:8080/",
          "height": 551
        },
        "id": "1eVArxN7iiLg",
        "outputId": "a6dbc17f-dfcd-425f-b3a5-ecea18b309f7"
      },
      "source": [
        "train_pred = model.predict(tx_train)\n",
        "train_acc = accuracy(y_train, train_pred)\n",
        "print(\"Train Accuracy = \", train_acc)\n",
        "print(\"Macro F1 Score  = \", f1_score(y_train, train_pred, average='macro'))\n",
        "ConfusionMatrix(y_train, train_pred, 'Q1atrain.png')"
      ],
      "execution_count": 8,
      "outputs": [
        {
          "output_type": "stream",
          "text": [
            "Train Accuracy =  0.9920004128819158\n",
            "Macro F1 Score  =  0.9922950068775912\n"
          ],
          "name": "stdout"
        },
        {
          "output_type": "display_data",
          "data": {
            "image/png": "[encoded data removed]",
            "text/plain": [
              "<Figure size 576x576 with 2 Axes>"
            ]
          },
          "metadata": {
            "tags": [],
            "needs_background": "light"
          }
        }
      ]
    },
    {
      "cell_type": "code",
      "metadata": {
        "colab": {
          "base_uri": "https://localhost:8080/",
          "height": 545
        },
        "id": "U8v2s9Vhil8N",
        "outputId": "40895325-2c85-41f8-b5e6-f5516d6ba4d9"
      },
      "source": [
        "test_pred = model.predict(tx_test)\n",
        "test_acc = accuracy(y_test, test_pred)\n",
        "print(\"Test Accuracy = \", test_acc)\n",
        "print(\"Macro F1 Score  = \", f1_score(y_test, test_pred, average='macro'))\n",
        "ConfusionMatrix(y_test, test_pred, 'Q1atest.png')"
      ],
      "execution_count": 9,
      "outputs": [
        {
          "output_type": "stream",
          "text": [
            "Test Accuracy =  0.40083604273107293\n",
            "Macro F1 Score  =  0.3759643739796591\n"
          ],
          "name": "stdout"
        },
        {
          "output_type": "display_data",
          "data": {
            "image/png": "[encoded data removed]",
            "text/plain": [
              "<Figure size 576x576 with 2 Axes>"
            ]
          },
          "metadata": {
            "tags": [],
            "needs_background": "light"
          }
        }
      ]
    },
    {
      "cell_type": "code",
      "metadata": {
        "id": "bl18zrmtXbbD"
      },
      "source": [
        "! python3 '/content/drive/MyDrive/Colab Notebooks/Q1a.py' '/content/drive/MyDrive/Colab Notebooks/train.csv' '/content/drive/MyDrive/Colab Notebooks/private.csv' '/content/drive/MyDrive/Colab Notebooks/A4/Q1a.txt'"
      ],
      "execution_count": 10,
      "outputs": []
    },
    {
      "cell_type": "code",
      "metadata": {
        "id": "AUdzmQzvWYpD"
      },
      "source": [
        "Q1a = torch.load('/content/drive/MyDrive/Colab Notebooks/A4/Q1a')"
      ],
      "execution_count": 11,
      "outputs": []
    },
    {
      "cell_type": "code",
      "metadata": {
        "colab": {
          "base_uri": "https://localhost:8080/",
          "height": 551
        },
        "id": "Lsym1fE2V9qY",
        "outputId": "24ef8039-2533-44b7-fe95-9e4806c84b61"
      },
      "source": [
        "train_pred = Q1a.predict(tx_train)\n",
        "train_acc = accuracy(y_train, train_pred)\n",
        "print(\"Train Accuracy = \", train_acc)\n",
        "print(\"Macro F1 Score  = \", f1_score(y_train, train_pred, average='macro'))\n",
        "ConfusionMatrix(y_train, train_pred, 'Q1atrain.png')"
      ],
      "execution_count": 12,
      "outputs": [
        {
          "output_type": "stream",
          "text": [
            "Train Accuracy =  0.9936519405450042\n",
            "Macro F1 Score  =  0.9935079960086857\n"
          ],
          "name": "stdout"
        },
        {
          "output_type": "display_data",
          "data": {
            "image/png": "[encoded data removed]",
            "text/plain": [
              "<Figure size 576x576 with 2 Axes>"
            ]
          },
          "metadata": {
            "tags": [],
            "needs_background": "light"
          }
        }
      ]
    },
    {
      "cell_type": "code",
      "metadata": {
        "colab": {
          "base_uri": "https://localhost:8080/",
          "height": 528
        },
        "id": "7PIumKKzWWsX",
        "outputId": "e7eaa13a-b2ca-45e5-d99d-67052541b3bc"
      },
      "source": [
        "test_pred = Q1a.predict(tx_test)\n",
        "test_acc = accuracy(y_test, test_pred)\n",
        "print(\"Macro F1 Score  = \", f1_score(y_test, test_pred, average='macro'))\n",
        "ConfusionMatrix(y_test, test_pred, 'Q1atest.png')"
      ],
      "execution_count": 13,
      "outputs": [
        {
          "output_type": "stream",
          "text": [
            "Macro F1 Score  =  0.36715577101619373\n"
          ],
          "name": "stdout"
        },
        {
          "output_type": "display_data",
          "data": {
            "image/png": "[encoded data removed]",
            "text/plain": [
              "<Figure size 576x576 with 2 Axes>"
            ]
          },
          "metadata": {
            "tags": [],
            "needs_background": "light"
          }
        }
      ]
    },
    {
      "cell_type": "code",
      "metadata": {
        "id": "tD8UGOUxWdmd"
      },
      "source": [
        ""
      ],
      "execution_count": null,
      "outputs": []
    }
  ]
}