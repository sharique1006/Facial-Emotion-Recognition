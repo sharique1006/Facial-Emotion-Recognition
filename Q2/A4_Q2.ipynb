{
  "nbformat": 4,
  "nbformat_minor": 0,
  "metadata": {
    "colab": {
      "name": "A4-Q2.ipynb",
      "provenance": [],
      "collapsed_sections": []
    },
    "kernelspec": {
      "name": "python3",
      "display_name": "Python 3"
    },
    "accelerator": "GPU"
  },
  "cells": [
    {
      "cell_type": "code",
      "metadata": {
        "colab": {
          "base_uri": "https://localhost:8080/"
        },
        "id": "skQTeOYkHCIy",
        "outputId": "1fed52eb-75d1-4987-a201-8fa0390ce103"
      },
      "source": [
        "from google.colab import drive\n",
        "drive.mount('/content/drive')"
      ],
      "execution_count": 2,
      "outputs": [
        {
          "output_type": "stream",
          "text": [
            "Drive already mounted at /content/drive; to attempt to forcibly remount, call drive.mount(\"/content/drive\", force_remount=True).\n"
          ],
          "name": "stdout"
        }
      ]
    },
    {
      "cell_type": "code",
      "metadata": {
        "id": "KMcUKWMJHDKX"
      },
      "source": [
        "import numpy as np\n",
        "import pandas as pd\n",
        "import sys\n",
        "import time\n",
        "import seaborn as sns\n",
        "import matplotlib.pyplot as plt\n",
        "import torch\n",
        "import torch.nn as nn\n",
        "import torch.optim as optim\n",
        "import torch.nn.functional as F\n",
        "from torch.autograd import Variable\n",
        "from sklearn.metrics import confusion_matrix\n",
        "from sklearn.metrics import f1_score\n",
        "from skimage.transform import rotate"
      ],
      "execution_count": 3,
      "outputs": []
    },
    {
      "cell_type": "code",
      "metadata": {
        "id": "JBPGhDuzAucw"
      },
      "source": [
        "def getData(file):\n",
        "\tdata = pd.read_csv(file, header=None)\n",
        "\tx = data.iloc[:,1:].to_numpy()\n",
        "\ty = data.iloc[:,0].to_numpy()\n",
        "\ty = np.array([int(i) for i in y])\n",
        "\treturn x, y\n",
        " \n",
        "def accuracy(y, pred):\n",
        "  acc = 0\n",
        "  for i in range(len(y)):\n",
        "    if pred[i] == y[i]:\n",
        "      acc += 1\n",
        "  acc = acc/len(y)\n",
        "  return acc\n",
        "\n",
        "def ConfusionMatrix(y, pred, file):\n",
        "  labels = np.unique(y)\n",
        "  cm = confusion_matrix(y, pred)\n",
        "\n",
        "  fig = plt.figure(figsize=(8,8))\n",
        "  ax = fig.gca()\n",
        "  _ = sns.heatmap(cm,annot=True,cmap=\"Blues\",xticklabels=labels,yticklabels=labels,fmt='g')\n",
        "  ax.set_xlabel(\"Actual Class\")\n",
        "  ax.set_ylabel(\"Predicted Class\")\n",
        "  plt.title(\"Confusion Matrix\",y=1.08)\n",
        "  ax.xaxis.tick_top()\n",
        "  ax.xaxis.set_label_position('top')\n",
        "  plt.savefig(file)\n",
        "  plt.show()\n",
        "  plt.close()\n",
        "\n",
        "def rotate_image(x):\n",
        "  rotatedx = np.zeros(x.shape)\n",
        "  for i in range(x.shape[0]):\n",
        "    img = x[i].reshape(48, 48)\n",
        "    rotated = rotate(img, angle=-45, mode='wrap')\n",
        "    rotatedx[i] = rotated\n",
        "  return rotatedx\n",
        "\n",
        "def flip_image(x):\n",
        "  flippedx = np.zeros(x.shape)\n",
        "  for i in range(x.shape[0]):\n",
        "    img = x[i].reshape(48, 48)\n",
        "    flipped = np.fliplr(img)\n",
        "    flippedx[i] = flipped\n",
        "  return flippedx"
      ],
      "execution_count": 4,
      "outputs": []
    },
    {
      "cell_type": "code",
      "metadata": {
        "colab": {
          "base_uri": "https://localhost:8080/"
        },
        "id": "RR3dWECCA-Nf",
        "outputId": "cb53d1e7-3942-4664-9972-16a851d2c03a"
      },
      "source": [
        "x_train, y_train = getData('/content/drive/MyDrive/Colab Notebooks/train.csv')\n",
        "x_test, y_test = getData('/content/drive/MyDrive/Colab Notebooks/public_test.csv')\n",
        "\n",
        "print(x_train.shape, y_train.shape)\n",
        "print(x_test.shape, y_test.shape)"
      ],
      "execution_count": 5,
      "outputs": [
        {
          "output_type": "stream",
          "text": [
            "(19376, 2304) (19376,)\n",
            "(6459, 2304) (6459,)\n"
          ],
          "name": "stdout"
        }
      ]
    },
    {
      "cell_type": "code",
      "metadata": {
        "colab": {
          "base_uri": "https://localhost:8080/"
        },
        "id": "tssCv1UdBBII",
        "outputId": "4930cba7-b325-40e0-a04d-c5415984efde"
      },
      "source": [
        "x_train = x_train.reshape(x_train.shape[0], 1, 48, 48)\n",
        "x_test = x_test.reshape(x_test.shape[0], 1, 48, 48)\n",
        "\n",
        "tx_train = torch.FloatTensor(x_train.tolist()).cuda()\n",
        "ty_train = torch.LongTensor(y_train.tolist()).cuda()\n",
        "\n",
        "tx_test = torch.FloatTensor(x_test.tolist()).cuda()\n",
        "ty_test = torch.LongTensor(y_test.tolist()).cuda()\n",
        "\n",
        "print(tx_train.size())\n",
        "print(ty_train.size())\n",
        "print(tx_test.size())\n",
        "print(ty_test.size())"
      ],
      "execution_count": 6,
      "outputs": [
        {
          "output_type": "stream",
          "text": [
            "torch.Size([19376, 1, 48, 48])\n",
            "torch.Size([19376])\n",
            "torch.Size([6459, 1, 48, 48])\n",
            "torch.Size([6459])\n"
          ],
          "name": "stdout"
        }
      ]
    },
    {
      "cell_type": "code",
      "metadata": {
        "colab": {
          "base_uri": "https://localhost:8080/"
        },
        "id": "3tX3QeovA1LJ",
        "outputId": "efe365eb-7c7f-4838-e7ad-e4456b0a8414"
      },
      "source": [
        "flipped_xtrain = flip_image(x_train)\n",
        "rotated_xtrain = rotate_image(x_train)\n",
        "fx_train = np.concatenate((x_train, flipped_xtrain))\n",
        "fx_train = np.concatenate((fx_train, rotated_xtrain))\n",
        "tfx_train = torch.FloatTensor(fx_train.tolist()).cuda()\n",
        "\n",
        "fy_train = np.concatenate((y_train, y_train))\n",
        "fy_train = np.concatenate((fy_train, y_train))\n",
        "tfy_train = torch.LongTensor(fy_train.tolist()).cuda()\n",
        "\n",
        "print(tfx_train.size())\n",
        "print(tfy_train.size())"
      ],
      "execution_count": 7,
      "outputs": [
        {
          "output_type": "stream",
          "text": [
            "torch.Size([58128, 1, 48, 48])\n",
            "torch.Size([58128])\n"
          ],
          "name": "stdout"
        }
      ]
    },
    {
      "cell_type": "code",
      "metadata": {
        "id": "_rJsJVwJBIfG"
      },
      "source": [
        "cfg = [64, 64, 'M', 128, 128, 'M', 256, 256, 256, 256, 'M', 512, 512, 512, 512, 'M', 512, 512, 512, 512, 'M']\n",
        "\n",
        "class VGG(nn.Module):\n",
        "    def __init__(self, cfg):\n",
        "        super(VGG, self).__init__()\n",
        "        self.features = self._make_layers(cfg)\n",
        "        self.classifier = nn.Linear(512, 7)\n",
        "\n",
        "    def forward(self, x):\n",
        "        out = self.features(x)\n",
        "        out = out.view(out.size(0), -1)\n",
        "        out = F.dropout(out, p=0.5, training=self.training)\n",
        "        out = self.classifier(out)\n",
        "        return out\n",
        "\n",
        "    def _make_layers(self, cfg):\n",
        "        layers = []\n",
        "        in_channels = 1\n",
        "        for x in cfg:\n",
        "            if x == 'M':\n",
        "                layers += [nn.MaxPool2d(kernel_size=2, stride=2)]\n",
        "            else:\n",
        "                layers += [nn.Conv2d(in_channels, x, kernel_size=3, padding=1),\n",
        "                           nn.BatchNorm2d(x),\n",
        "                           nn.ReLU(inplace=True)]\n",
        "                in_channels = x\n",
        "        layers += [nn.AvgPool2d(kernel_size=1, stride=1)]\n",
        "        return nn.Sequential(*layers)\n",
        "\n",
        "    def predict(self, x):\n",
        "      num_batches = int(x.shape[0]/100)\n",
        "      pred = np.array([0.])\n",
        "      for i in range(num_batches):\n",
        "        x_batch = x[i*100:(i+1)*100]\n",
        "        pred = np.concatenate((pred, torch.max(self.forward(x_batch).data, 1)[1].cpu().numpy()))\n",
        "      pred = np.concatenate((pred, torch.max(self.forward(x[num_batches*100:x.shape[0]]), 1)[1].cpu().numpy()))\n",
        "      return pred[1:]\n",
        "\n",
        "    def fit(self, x, y, r, optimizer, loss_func):\n",
        "      num_batches = int(x.shape[0]/r)\n",
        "      converged = False\n",
        "      epochs = 0\n",
        "      prevloss = 0\n",
        "      error = 0\n",
        "      while not converged:\n",
        "        for i in range(num_batches):\n",
        "          x_batch = x[i*r:(i+1)*r]\n",
        "          y_batch = y[i*r:(i+1)*r]\n",
        "          x_var = Variable(x_batch)\n",
        "          y_var = Variable(y_batch)\n",
        "          optimizer.zero_grad()\n",
        "          out = self.forward(x_var)\n",
        "          loss = loss_func(out, y_var)\n",
        "          loss.backward()\n",
        "          optimizer.step()\n",
        "        error = abs(prevloss - loss.data)\n",
        "        prevloss = loss.data\n",
        "        print('Epoch: {} - Loss: {:.6f} - Error: {:.6f}'.format(epochs, loss.data, error))\n",
        "        epochs += 1\n",
        "        del loss\n",
        "        if epochs > 10 and error < 1e-5 or epochs > 100:\n",
        "          converged = True"
      ],
      "execution_count": 8,
      "outputs": []
    },
    {
      "cell_type": "code",
      "metadata": {
        "id": "jRrLjRaULjEJ"
      },
      "source": [
        "model = VGG(cfg)\n",
        "model.cuda()\n",
        "optimizer = optim.SGD(model.parameters(), lr=0.01, momentum=0.9)\n",
        "loss_func = nn.CrossEntropyLoss()"
      ],
      "execution_count": 9,
      "outputs": []
    },
    {
      "cell_type": "code",
      "metadata": {
        "colab": {
          "base_uri": "https://localhost:8080/"
        },
        "id": "AVDQPGffLoPV",
        "outputId": "48106a1a-5c0d-4662-bbe8-99b311fd76b8"
      },
      "source": [
        "start = time.time()\n",
        "model.fit(tfx_train, tfy_train, 100, optimizer, loss_func)\n",
        "end = time.time()\n",
        "print('Training Time = ', (end-start))"
      ],
      "execution_count": 10,
      "outputs": [
        {
          "output_type": "stream",
          "text": [
            "Epoch: 0 - Loss: 1.782794 - Error: 1.782794\n",
            "Epoch: 1 - Loss: 1.594898 - Error: 0.187896\n",
            "Epoch: 2 - Loss: 1.395587 - Error: 0.199311\n",
            "Epoch: 3 - Loss: 1.285332 - Error: 0.110256\n",
            "Epoch: 4 - Loss: 1.219388 - Error: 0.065944\n",
            "Epoch: 5 - Loss: 1.159963 - Error: 0.059424\n",
            "Epoch: 6 - Loss: 0.984645 - Error: 0.175318\n",
            "Epoch: 7 - Loss: 0.872645 - Error: 0.112000\n",
            "Epoch: 8 - Loss: 0.828153 - Error: 0.044492\n",
            "Epoch: 9 - Loss: 0.812816 - Error: 0.015337\n",
            "Epoch: 10 - Loss: 0.729026 - Error: 0.083790\n",
            "Epoch: 11 - Loss: 0.592687 - Error: 0.136339\n",
            "Epoch: 12 - Loss: 0.568213 - Error: 0.024473\n",
            "Epoch: 13 - Loss: 0.495744 - Error: 0.072469\n",
            "Epoch: 14 - Loss: 0.600791 - Error: 0.105047\n",
            "Epoch: 15 - Loss: 0.454253 - Error: 0.146538\n",
            "Epoch: 16 - Loss: 0.315496 - Error: 0.138757\n",
            "Epoch: 17 - Loss: 0.394760 - Error: 0.079264\n",
            "Epoch: 18 - Loss: 0.257567 - Error: 0.137193\n",
            "Epoch: 19 - Loss: 0.248133 - Error: 0.009433\n",
            "Epoch: 20 - Loss: 0.316413 - Error: 0.068280\n",
            "Epoch: 21 - Loss: 0.134539 - Error: 0.181874\n",
            "Epoch: 22 - Loss: 0.112904 - Error: 0.021635\n",
            "Epoch: 23 - Loss: 0.090063 - Error: 0.022841\n",
            "Epoch: 24 - Loss: 0.075071 - Error: 0.014992\n",
            "Epoch: 25 - Loss: 0.063435 - Error: 0.011636\n",
            "Epoch: 26 - Loss: 0.073245 - Error: 0.009810\n",
            "Epoch: 27 - Loss: 0.112511 - Error: 0.039267\n",
            "Epoch: 28 - Loss: 0.035662 - Error: 0.076850\n",
            "Epoch: 29 - Loss: 0.029768 - Error: 0.005894\n",
            "Epoch: 30 - Loss: 0.055243 - Error: 0.025475\n",
            "Epoch: 31 - Loss: 0.029270 - Error: 0.025973\n",
            "Epoch: 32 - Loss: 0.004927 - Error: 0.024343\n",
            "Epoch: 33 - Loss: 0.024236 - Error: 0.019309\n",
            "Epoch: 34 - Loss: 0.011115 - Error: 0.013121\n",
            "Epoch: 35 - Loss: 0.108844 - Error: 0.097728\n",
            "Epoch: 36 - Loss: 0.007403 - Error: 0.101441\n",
            "Epoch: 37 - Loss: 0.046416 - Error: 0.039013\n",
            "Epoch: 38 - Loss: 0.031495 - Error: 0.014921\n",
            "Epoch: 39 - Loss: 0.061897 - Error: 0.030402\n",
            "Epoch: 40 - Loss: 0.021622 - Error: 0.040275\n",
            "Epoch: 41 - Loss: 0.009235 - Error: 0.012387\n",
            "Epoch: 42 - Loss: 0.003450 - Error: 0.005785\n",
            "Epoch: 43 - Loss: 0.025546 - Error: 0.022096\n",
            "Epoch: 44 - Loss: 0.002287 - Error: 0.023259\n",
            "Epoch: 45 - Loss: 0.008442 - Error: 0.006154\n",
            "Epoch: 46 - Loss: 0.011141 - Error: 0.002699\n",
            "Epoch: 47 - Loss: 0.006961 - Error: 0.004180\n",
            "Epoch: 48 - Loss: 0.001265 - Error: 0.005695\n",
            "Epoch: 49 - Loss: 0.001537 - Error: 0.000271\n",
            "Epoch: 50 - Loss: 0.014188 - Error: 0.012652\n",
            "Epoch: 51 - Loss: 0.005345 - Error: 0.008843\n",
            "Epoch: 52 - Loss: 0.024316 - Error: 0.018971\n",
            "Epoch: 53 - Loss: 0.011425 - Error: 0.012890\n",
            "Epoch: 54 - Loss: 0.005456 - Error: 0.005969\n",
            "Epoch: 55 - Loss: 0.001836 - Error: 0.003620\n",
            "Epoch: 56 - Loss: 0.000346 - Error: 0.001490\n",
            "Epoch: 57 - Loss: 0.000589 - Error: 0.000243\n",
            "Epoch: 58 - Loss: 0.002563 - Error: 0.001974\n",
            "Epoch: 59 - Loss: 0.010149 - Error: 0.007586\n",
            "Epoch: 60 - Loss: 0.000512 - Error: 0.009637\n",
            "Epoch: 61 - Loss: 0.011766 - Error: 0.011254\n",
            "Epoch: 62 - Loss: 0.017300 - Error: 0.005534\n",
            "Epoch: 63 - Loss: 0.001223 - Error: 0.016078\n",
            "Epoch: 64 - Loss: 0.000562 - Error: 0.000660\n",
            "Epoch: 65 - Loss: 0.025986 - Error: 0.025424\n",
            "Epoch: 66 - Loss: 0.035912 - Error: 0.009925\n",
            "Epoch: 67 - Loss: 0.032798 - Error: 0.003114\n",
            "Epoch: 68 - Loss: 0.005396 - Error: 0.027401\n",
            "Epoch: 69 - Loss: 0.008711 - Error: 0.003315\n",
            "Epoch: 70 - Loss: 0.000605 - Error: 0.008106\n",
            "Epoch: 71 - Loss: 0.027223 - Error: 0.026618\n",
            "Epoch: 72 - Loss: 0.019864 - Error: 0.007359\n",
            "Epoch: 73 - Loss: 0.004444 - Error: 0.015420\n",
            "Epoch: 74 - Loss: 0.000494 - Error: 0.003950\n",
            "Epoch: 75 - Loss: 0.015564 - Error: 0.015070\n",
            "Epoch: 76 - Loss: 0.010776 - Error: 0.004788\n",
            "Epoch: 77 - Loss: 0.000260 - Error: 0.010517\n",
            "Epoch: 78 - Loss: 0.006067 - Error: 0.005807\n",
            "Epoch: 79 - Loss: 0.000238 - Error: 0.005829\n",
            "Epoch: 80 - Loss: 0.002250 - Error: 0.002012\n",
            "Epoch: 81 - Loss: 0.009978 - Error: 0.007728\n",
            "Epoch: 82 - Loss: 0.002052 - Error: 0.007926\n",
            "Epoch: 83 - Loss: 0.001058 - Error: 0.000994\n",
            "Epoch: 84 - Loss: 0.008838 - Error: 0.007780\n",
            "Epoch: 85 - Loss: 0.002548 - Error: 0.006290\n",
            "Epoch: 86 - Loss: 0.000615 - Error: 0.001933\n",
            "Epoch: 87 - Loss: 0.000122 - Error: 0.000493\n",
            "Epoch: 88 - Loss: 0.000057 - Error: 0.000065\n",
            "Epoch: 89 - Loss: 0.000081 - Error: 0.000024\n",
            "Epoch: 90 - Loss: 0.002720 - Error: 0.002639\n",
            "Epoch: 91 - Loss: 0.000843 - Error: 0.001877\n",
            "Epoch: 92 - Loss: 0.000305 - Error: 0.000538\n",
            "Epoch: 93 - Loss: 0.000104 - Error: 0.000201\n",
            "Epoch: 94 - Loss: 0.000571 - Error: 0.000467\n",
            "Epoch: 95 - Loss: 0.000341 - Error: 0.000231\n",
            "Epoch: 96 - Loss: 0.000721 - Error: 0.000381\n",
            "Epoch: 97 - Loss: 0.000984 - Error: 0.000262\n",
            "Epoch: 98 - Loss: 0.002139 - Error: 0.001156\n",
            "Epoch: 99 - Loss: 0.000203 - Error: 0.001936\n",
            "Epoch: 100 - Loss: 0.000530 - Error: 0.000327\n",
            "Training Time =  3991.2254078388214\n"
          ],
          "name": "stdout"
        }
      ]
    },
    {
      "cell_type": "code",
      "metadata": {
        "colab": {
          "base_uri": "https://localhost:8080/",
          "height": 551
        },
        "id": "FBwGACtLLqQ8",
        "outputId": "9d77bb1c-40a6-42f1-9fbd-373e43a66a2d"
      },
      "source": [
        "train_pred = model.predict(tx_train)\n",
        "train_acc = accuracy(y_train, train_pred)\n",
        "print(\"Train Accuracy = \", train_acc)\n",
        "print(\"Macro F1 Score  = \", f1_score(y_train, train_pred, average='macro'))\n",
        "ConfusionMatrix(y_train, train_pred, 'Q2train.png')"
      ],
      "execution_count": 11,
      "outputs": [
        {
          "output_type": "stream",
          "text": [
            "Train Accuracy =  0.9973162675474814\n",
            "Macro F1 Score  =  0.9971962198408001\n"
          ],
          "name": "stdout"
        },
        {
          "output_type": "display_data",
          "data": {
            "image/png": "[encoded data removed]",
            "text/plain": [
              "<Figure size 576x576 with 2 Axes>"
            ]
          },
          "metadata": {
            "tags": [],
            "needs_background": "light"
          }
        }
      ]
    },
    {
      "cell_type": "code",
      "metadata": {
        "colab": {
          "base_uri": "https://localhost:8080/",
          "height": 551
        },
        "id": "qgD65NKCOTCF",
        "outputId": "d311e75b-61e9-4d35-8d01-21daa5ba59dd"
      },
      "source": [
        "test_pred = model.predict(tx_test)\n",
        "test_acc = accuracy(y_test, test_pred)\n",
        "print(\"Test Accuracy = \", test_acc)\n",
        "print(\"Macro F1 Score  = \", f1_score(y_test, test_pred, average='macro'))\n",
        "ConfusionMatrix(y_test, test_pred, 'Q2test.png')"
      ],
      "execution_count": 12,
      "outputs": [
        {
          "output_type": "stream",
          "text": [
            "Test Accuracy =  0.6259482892088558\n",
            "Macro F1 Score  =  0.5993967189586222\n"
          ],
          "name": "stdout"
        },
        {
          "output_type": "display_data",
          "data": {
            "image/png": "[encoded data removed]",
            "text/plain": [
              "<Figure size 576x576 with 2 Axes>"
            ]
          },
          "metadata": {
            "tags": [],
            "needs_background": "light"
          }
        }
      ]
    },
    {
      "cell_type": "code",
      "metadata": {
        "id": "n0CriwvoER6K"
      },
      "source": [
        " torch.save(model, '/content/drive/MyDrive/Colab Notebooks/Q2')"
      ],
      "execution_count": null,
      "outputs": []
    },
    {
      "cell_type": "code",
      "metadata": {
        "colab": {
          "base_uri": "https://localhost:8080/"
        },
        "id": "dhajj95TzGRk",
        "outputId": "5e23fad0-67d3-4c68-e4ea-a2fd19f7f26e"
      },
      "source": [
        "! python3 '/content/drive/MyDrive/Colab Notebooks/Q2.py' '/content/drive/MyDrive/Colab Notebooks/train.csv' '/content/drive/MyDrive/Colab Notebooks/private.csv' '/content/drive/MyDrive/Colab Notebooks/A4/Q2.txt'"
      ],
      "execution_count": null,
      "outputs": [
        {
          "output_type": "stream",
          "text": [
            "Epoch: 0 - Loss: 1.638328 - Error: 1.638328\n",
            "Epoch: 1 - Loss: 1.503321 - Error: 0.135007\n",
            "Epoch: 2 - Loss: 1.323125 - Error: 0.180196\n",
            "Epoch: 3 - Loss: 1.252395 - Error: 0.070730\n",
            "Epoch: 4 - Loss: 1.170606 - Error: 0.081788\n",
            "Epoch: 5 - Loss: 1.139128 - Error: 0.031478\n",
            "Epoch: 6 - Loss: 0.946234 - Error: 0.192894\n",
            "Epoch: 7 - Loss: 0.926162 - Error: 0.020072\n",
            "Epoch: 8 - Loss: 0.865019 - Error: 0.061143\n",
            "Epoch: 9 - Loss: 0.748293 - Error: 0.116726\n",
            "Epoch: 10 - Loss: 0.736292 - Error: 0.012001\n",
            "Epoch: 11 - Loss: 0.637836 - Error: 0.098456\n",
            "Epoch: 12 - Loss: 0.609149 - Error: 0.028687\n",
            "Epoch: 13 - Loss: 0.536512 - Error: 0.072636\n",
            "Epoch: 14 - Loss: 0.390391 - Error: 0.146122\n",
            "Epoch: 15 - Loss: 0.427953 - Error: 0.037563\n",
            "Epoch: 16 - Loss: 0.243680 - Error: 0.184273\n",
            "Epoch: 17 - Loss: 0.255307 - Error: 0.011627\n",
            "Epoch: 18 - Loss: 0.150508 - Error: 0.104799\n",
            "Epoch: 19 - Loss: 0.142261 - Error: 0.008247\n",
            "Epoch: 20 - Loss: 0.162749 - Error: 0.020488\n",
            "Epoch: 21 - Loss: 0.120000 - Error: 0.042749\n",
            "Epoch: 22 - Loss: 0.248153 - Error: 0.128153\n",
            "Epoch: 23 - Loss: 0.043507 - Error: 0.204646\n",
            "Epoch: 24 - Loss: 0.029199 - Error: 0.014308\n",
            "Epoch: 25 - Loss: 0.131219 - Error: 0.102021\n",
            "Epoch: 26 - Loss: 0.049021 - Error: 0.082198\n",
            "Epoch: 27 - Loss: 0.072958 - Error: 0.023937\n",
            "Epoch: 28 - Loss: 0.025940 - Error: 0.047018\n",
            "Epoch: 29 - Loss: 0.045175 - Error: 0.019234\n",
            "Epoch: 30 - Loss: 0.050894 - Error: 0.005720\n",
            "Epoch: 31 - Loss: 0.064520 - Error: 0.013625\n",
            "Epoch: 32 - Loss: 0.008618 - Error: 0.055901\n",
            "Epoch: 33 - Loss: 0.005613 - Error: 0.003006\n",
            "Epoch: 34 - Loss: 0.046352 - Error: 0.040739\n",
            "Epoch: 35 - Loss: 0.031862 - Error: 0.014490\n",
            "Epoch: 36 - Loss: 0.043267 - Error: 0.011405\n",
            "Epoch: 37 - Loss: 0.029619 - Error: 0.013647\n",
            "Epoch: 38 - Loss: 0.015319 - Error: 0.014300\n",
            "Epoch: 39 - Loss: 0.008264 - Error: 0.007055\n",
            "Epoch: 40 - Loss: 0.032100 - Error: 0.023837\n",
            "Epoch: 41 - Loss: 0.036417 - Error: 0.004317\n",
            "Epoch: 42 - Loss: 0.006566 - Error: 0.029851\n",
            "Epoch: 43 - Loss: 0.085385 - Error: 0.078819\n",
            "Epoch: 44 - Loss: 0.029464 - Error: 0.055921\n",
            "Epoch: 45 - Loss: 0.003615 - Error: 0.025849\n",
            "Epoch: 46 - Loss: 0.072431 - Error: 0.068815\n",
            "Epoch: 47 - Loss: 0.019290 - Error: 0.053141\n",
            "Epoch: 48 - Loss: 0.040744 - Error: 0.021454\n",
            "Epoch: 49 - Loss: 0.009981 - Error: 0.030763\n",
            "Epoch: 50 - Loss: 0.001439 - Error: 0.008541\n",
            "Epoch: 51 - Loss: 0.028958 - Error: 0.027518\n",
            "Epoch: 52 - Loss: 0.002000 - Error: 0.026958\n",
            "Epoch: 53 - Loss: 0.000511 - Error: 0.001489\n",
            "Epoch: 54 - Loss: 0.004233 - Error: 0.003722\n",
            "Epoch: 55 - Loss: 0.010083 - Error: 0.005850\n",
            "Epoch: 56 - Loss: 0.008742 - Error: 0.001341\n",
            "Epoch: 57 - Loss: 0.005593 - Error: 0.003150\n",
            "Epoch: 58 - Loss: 0.001104 - Error: 0.004489\n",
            "Epoch: 59 - Loss: 0.007835 - Error: 0.006731\n",
            "Epoch: 60 - Loss: 0.002371 - Error: 0.005464\n",
            "Epoch: 61 - Loss: 0.023076 - Error: 0.020705\n",
            "Epoch: 62 - Loss: 0.005009 - Error: 0.018067\n",
            "Epoch: 63 - Loss: 0.000737 - Error: 0.004272\n",
            "Epoch: 64 - Loss: 0.000980 - Error: 0.000243\n",
            "Epoch: 65 - Loss: 0.000600 - Error: 0.000380\n",
            "Epoch: 66 - Loss: 0.001451 - Error: 0.000850\n",
            "Epoch: 67 - Loss: 0.005429 - Error: 0.003978\n",
            "Epoch: 68 - Loss: 0.005440 - Error: 0.000011\n",
            "Epoch: 69 - Loss: 0.000680 - Error: 0.004760\n",
            "Epoch: 70 - Loss: 0.046480 - Error: 0.045800\n",
            "Epoch: 71 - Loss: 0.001724 - Error: 0.044756\n",
            "Epoch: 72 - Loss: 0.002334 - Error: 0.000610\n",
            "Epoch: 73 - Loss: 0.020325 - Error: 0.017991\n",
            "Epoch: 74 - Loss: 0.087171 - Error: 0.066846\n",
            "Epoch: 75 - Loss: 0.040712 - Error: 0.046458\n",
            "Epoch: 76 - Loss: 0.000959 - Error: 0.039753\n",
            "Epoch: 77 - Loss: 0.000486 - Error: 0.000473\n",
            "Epoch: 78 - Loss: 0.000362 - Error: 0.000125\n",
            "Epoch: 79 - Loss: 0.013590 - Error: 0.013228\n",
            "Epoch: 80 - Loss: 0.017776 - Error: 0.004186\n",
            "Epoch: 81 - Loss: 0.006358 - Error: 0.011418\n",
            "Epoch: 82 - Loss: 0.002221 - Error: 0.004137\n",
            "Epoch: 83 - Loss: 0.000738 - Error: 0.001484\n",
            "Epoch: 84 - Loss: 0.000621 - Error: 0.000117\n",
            "Epoch: 85 - Loss: 0.000618 - Error: 0.000002\n"
          ],
          "name": "stdout"
        }
      ]
    },
    {
      "cell_type": "code",
      "metadata": {
        "id": "aSYCFJ1Y15ap"
      },
      "source": [
        "Q2 = torch.load('/content/drive/MyDrive/Colab Notebooks/A4/Q2')"
      ],
      "execution_count": null,
      "outputs": []
    },
    {
      "cell_type": "code",
      "metadata": {
        "colab": {
          "base_uri": "https://localhost:8080/",
          "height": 552
        },
        "id": "4B-nYmlr-DI1",
        "outputId": "303ea90d-7ce7-4744-db44-200adb1c96c4"
      },
      "source": [
        "train_pred = Q2.predict(tx_train)\n",
        "train_acc = accuracy(y_train, train_pred)\n",
        "print('Train Accuracy = ', train_acc)\n",
        "ConfusionMatrix(y_train, train_pred, 'Q2train.png')"
      ],
      "execution_count": null,
      "outputs": [
        {
          "output_type": "stream",
          "text": [
            "Train Accuracy =  0.9984516928158547\n",
            "Macro F1 Score =  0.877868767937166\n"
          ],
          "name": "stdout"
        },
        {
          "output_type": "display_data",
          "data": {
            "image/png": "[encoded data removed]",
            "text/plain": [
              "<Figure size 576x576 with 2 Axes>"
            ]
          },
          "metadata": {
            "tags": [],
            "needs_background": "light"
          }
        }
      ]
    },
    {
      "cell_type": "code",
      "metadata": {
        "colab": {
          "base_uri": "https://localhost:8080/",
          "height": 552
        },
        "id": "PTMAmtZf-Qh2",
        "outputId": "b7348211-c50d-4556-8a4d-268da2205c71"
      },
      "source": [
        "test_pred = Q2.predict(tx_test)\n",
        "test_acc = accuracy(y_test, test_pred)\n",
        "print('Test Accuracy = ', test_acc)\n",
        "ConfusionMatrix(y_test, test_pred, 'Q2test.png')"
      ],
      "execution_count": null,
      "outputs": [
        {
          "output_type": "stream",
          "text": [
            "Test Accuracy =  0.6310574392320792\n",
            "Macro F1 Score =  0.822096993407079\n"
          ],
          "name": "stdout"
        },
        {
          "output_type": "display_data",
          "data": {
            "image/png": "[encoded data removed]",
            "text/plain": [
              "<Figure size 576x576 with 2 Axes>"
            ]
          },
          "metadata": {
            "tags": [],
            "needs_background": "light"
          }
        }
      ]
    },
    {
      "cell_type": "code",
      "metadata": {
        "colab": {
          "base_uri": "https://localhost:8080/"
        },
        "id": "kSjCOYmaPHMD",
        "outputId": "56dd9361-f1ce-41aa-c42d-a78533dcdf9d"
      },
      "source": [
        "private_xtest, private_ytest = getData('/content/drive/MyDrive/Colab Notebooks/private.csv') \n",
        "private_xtest = private_xtest.reshape(private_xtest.shape[0], 1, 48, 48)\n",
        "print(private_xtest.shape)"
      ],
      "execution_count": null,
      "outputs": [
        {
          "output_type": "stream",
          "text": [
            "(19157, 1, 48, 48)\n"
          ],
          "name": "stdout"
        }
      ]
    },
    {
      "cell_type": "code",
      "metadata": {
        "colab": {
          "base_uri": "https://localhost:8080/"
        },
        "id": "EPGc9bgOQYQi",
        "outputId": "9da9b48c-9448-44d7-e3e1-74ff136d7b41"
      },
      "source": [
        "private_txtest = torch.FloatTensor(private_xtest.tolist()).cuda()\n",
        "print(private_txtest.size())"
      ],
      "execution_count": null,
      "outputs": [
        {
          "output_type": "stream",
          "text": [
            "torch.Size([19157, 1, 48, 48])\n"
          ],
          "name": "stdout"
        }
      ]
    },
    {
      "cell_type": "code",
      "metadata": {
        "colab": {
          "base_uri": "https://localhost:8080/"
        },
        "id": "eIvh4S6iQcLn",
        "outputId": "d337ed7d-3569-47ff-b628-fddeb6624900"
      },
      "source": [
        "private_test_pred = Q2.predict(private_txtest)\n",
        "print(private_test_pred.shape)"
      ],
      "execution_count": null,
      "outputs": [
        {
          "output_type": "stream",
          "text": [
            "(19157,)\n"
          ],
          "name": "stdout"
        }
      ]
    },
    {
      "cell_type": "code",
      "metadata": {
        "id": "vBLPVuQ8QhHZ"
      },
      "source": [
        "f = open('/content/drive/MyDrive/Colab Notebooks/Q2.csv', 'w')\n",
        "print('Id,Prediction', file=f)\n",
        "for i in range(len(private_test_pred)):\n",
        "  s = str(i+1) + ',' + str(int(private_test_pred[i]))\n",
        "  print(s, file=f)\n",
        "f.close()"
      ],
      "execution_count": null,
      "outputs": []
    },
    {
      "cell_type": "code",
      "metadata": {
        "id": "o9VxyKYZQlKQ"
      },
      "source": [
        ""
      ],
      "execution_count": null,
      "outputs": []
    }
  ]
}